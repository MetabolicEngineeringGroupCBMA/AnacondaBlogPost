{
 "cells": [
  {
   "cell_type": "markdown",
   "metadata": {},
   "source": [
    "# Construction of plasmid pYPKa_A_EcacpH\n",
    "\n",
    "This notebook describes the construction of the _E. coli_ plasmid [pYPKa_A_EcacpH](pYPKa_A_EcacpH.gb). \n",
    "\n",
    "Briefly, the gene is amplified by PCR using two primers. The pYPka plasmid is linearized with restriction enzyme AjiI.\n",
    "Finally, the gene and the linear plasmid are ligated together into a circular plasmid.\n",
    "\n",
    "![pYPKa_A plasmid](pYPK_A.png \"pYPKa_A plasmid\")"
   ]
  },
  {
   "cell_type": "code",
   "execution_count": 30,
   "metadata": {
    "tags": []
   },
   "outputs": [],
   "source": [
    "from pydna.readers import read\n",
    "from pydna.genbank import Genbank\n",
    "from pydna.parsers import parse_primers\n",
    "from pydna.amplify import pcr\n",
    "from pydna.amplify import Anneal"
   ]
  },
  {
   "cell_type": "markdown",
   "metadata": {},
   "source": [
    "The  [pYPKa](pYPKa.gb) plasmid is read from a local file."
   ]
  },
  {
   "cell_type": "code",
   "execution_count": 31,
   "metadata": {
    "tags": []
   },
   "outputs": [],
   "source": [
    "pYPKa = read(\"pYPKa.gb\")"
   ]
  },
  {
   "cell_type": "markdown",
   "metadata": {},
   "source": [
    "The restriction enzyme [AjiI](http://rebase.neb.com/rebase/enz/AjiI.html) is imported from [Biopython](http://biopython.org)"
   ]
  },
  {
   "cell_type": "code",
   "execution_count": 32,
   "metadata": {
    "tags": []
   },
   "outputs": [],
   "source": [
    "from Bio.Restriction import AjiI"
   ]
  },
  {
   "cell_type": "markdown",
   "metadata": {},
   "source": [
    "The plasmid is linearized with the enzyme."
   ]
  },
  {
   "cell_type": "code",
   "execution_count": 33,
   "metadata": {
    "tags": []
   },
   "outputs": [],
   "source": [
    "pYPKa_AjiI  = pYPKa.linearize(AjiI)"
   ]
  },
  {
   "cell_type": "markdown",
   "metadata": {},
   "source": [
    "Access to [Genbank](http://www.ncbi.nlm.nih.gov/nuccore) is needed in order to download the AcpH gene.\n",
    "\n",
    "**If the email address below is not yours, change it before executing this script** as you must \n",
    "always provide NCBI with a way to contact you when using their service."
   ]
  },
  {
   "cell_type": "code",
   "execution_count": 34,
   "metadata": {
    "tags": []
   },
   "outputs": [],
   "source": [
    "gb = Genbank(\"me@myemail.home\")"
   ]
  },
  {
   "cell_type": "markdown",
   "metadata": {},
   "source": [
    "The template is downloaded from Genbank below."
   ]
  },
  {
   "cell_type": "code",
   "execution_count": 35,
   "metadata": {
    "tags": []
   },
   "outputs": [
    {
     "data": {
      "text/html": [
       "<a href='https://www.ncbi.nlm.nih.gov/nuccore/NC_000913 ?from=424337&to=424918&strand=2' target='_blank'>NC_000913  424337-424918</a>"
      ],
      "text/plain": [
       "Gbank(NC_000913  424337-424918)(-582)"
      ]
     },
     "execution_count": 35,
     "metadata": {},
     "output_type": "execute_result"
    }
   ],
   "source": [
    "template  = gb.nucleotide(\"NC_000913 REGION: complement(424337..424918)\")\n",
    "template"
   ]
  },
  {
   "cell_type": "code",
   "execution_count": 36,
   "metadata": {},
   "outputs": [
    {
     "name": "stdout",
     "output_type": "stream",
     "text": [
      "ATGAATTTTTTAGCTCACCTGCATTTAGCCCATCTCGCGGAAAGCTCGCTTTCCGGCAATTTACTGGCTGATTTCGTACGCGGAAATCCTGAAGAAAGTTTTCCGCCCGACGTCGTGGCTGGCATTCATATGCATCGACGTATCGACGTATTGACTGACAATCTGCCGGAAGTCCGCGAAGCACGGGAGTGGTTTCGTAGTGAAACGCGCCGCGTTGCGCCTATTACGCTGGATGTCATGTGGGATCACTTTCTTTCCCGCCACTGGTCGCAGCTGTCGCCGGACTTTCCGCTACAGGAATTTGTCTGTTATGCCCGCGAGCAAGTGATGACGATTTTGCCGGACTCACCGCCACGTTTTATCAATCTGAACAATTACTTGTGGTCAGAGCAGTGGCTGGTGCGCTATCGCGATATGGATTTCATCCAGAACGTGTTAAACGGCATGGCAAGCCGCCGCCCACGTCTGGATGCCCTGCGTGACTCCTGGTACGATTTAGACGCTCATTATGACGCCCTCGAAACCCGCTTCTGGCAGTTTTATCCGCGGATGATGGCGCAGGCGTCACGCAAGGCGTTATAA\n"
     ]
    }
   ],
   "source": [
    "print(template.seq)"
   ]
  },
  {
   "cell_type": "markdown",
   "metadata": {},
   "source": [
    "The two primers below are used to PCR amplify the AcpH gene."
   ]
  },
  {
   "cell_type": "code",
   "execution_count": 37,
   "metadata": {},
   "outputs": [],
   "source": [
    "fp,rp =  parse_primers(\"\"\">868_EcacpH_fw\n",
    "                          aaATGAATTTTTTAGCTCACCTG\n",
    "                          >867_EcacpH_rv\n",
    "                          TTATAACGCCTTGCGTGACGC\"\"\")"
   ]
  },
  {
   "cell_type": "markdown",
   "metadata": {},
   "source": [
    "The gene is amplifed using the primers specified above."
   ]
  },
  {
   "cell_type": "code",
   "execution_count": 38,
   "metadata": {},
   "outputs": [],
   "source": [
    "ins = pcr(fp, rp, template)"
   ]
  },
  {
   "cell_type": "markdown",
   "metadata": {},
   "source": [
    "The primers sit on the on the AcpH gene like this:"
   ]
  },
  {
   "cell_type": "code",
   "execution_count": 39,
   "metadata": {},
   "outputs": [
    {
     "data": {
      "text/plain": [
       "  5ATGAATTTTTTAGCTCACCTG...GCGTCACGCAAGGCGTTATAA3\n",
       "                           |||||||||||||||||||||\n",
       "                          3CGCAGTGCGTTCCGCAATATT5\n",
       "5aaATGAATTTTTTAGCTCACCTG3\n",
       "   |||||||||||||||||||||\n",
       "  3TACTTAAAAAATCGAGTGGAC...CGCAGTGCGTTCCGCAATATT5"
      ]
     },
     "execution_count": 39,
     "metadata": {},
     "output_type": "execute_result"
    }
   ],
   "source": [
    "ins.figure()"
   ]
  },
  {
   "cell_type": "markdown",
   "metadata": {},
   "source": [
    "The final vector is:"
   ]
  },
  {
   "cell_type": "code",
   "execution_count": 40,
   "metadata": {},
   "outputs": [],
   "source": [
    "plasmid = (pYPKa_AjiI  + ins).looped().synced(pYPKa)"
   ]
  },
  {
   "cell_type": "code",
   "execution_count": 41,
   "metadata": {},
   "outputs": [
    {
     "data": {
      "text/plain": [
       "q57RyGZNeeL1idS9Iw5-d333XPg"
      ]
     },
     "execution_count": 41,
     "metadata": {},
     "output_type": "execute_result"
    }
   ],
   "source": [
    "plasmid.cseguid()"
   ]
  },
  {
   "cell_type": "code",
   "execution_count": 42,
   "metadata": {},
   "outputs": [
    {
     "data": {
      "text/plain": [
       "cSEGUID_q57RyGZNeeL1idS9Iw5-d333XPg"
      ]
     },
     "execution_count": 42,
     "metadata": {},
     "output_type": "execute_result"
    }
   ],
   "source": [
    "plasmid.stamp()"
   ]
  },
  {
   "cell_type": "code",
   "execution_count": 43,
   "metadata": {},
   "outputs": [],
   "source": [
    "plasmid.name = \"pYPKa_A_EcacpH\""
   ]
  },
  {
   "cell_type": "markdown",
   "metadata": {},
   "source": [
    "The vector with reverse insert is created below. This vector theoretically make up\n",
    "fifty percent of the clones. The PCR strategy below is used to identify the correct clones."
   ]
  },
  {
   "cell_type": "code",
   "execution_count": 44,
   "metadata": {
    "tags": []
   },
   "outputs": [
    {
     "data": {
      "text/html": [
       "<font face=monospace><a href='pYPKa_A_EcacpH.gb' target='_blank'>pYPKa_A_EcacpH.gb</a></font><br>"
      ]
     },
     "metadata": {},
     "output_type": "display_data"
    }
   ],
   "source": [
    "plasmid.write(\"pYPKa_A_EcacpH.gb\")"
   ]
  }
 ],
 "metadata": {
  "kernelspec": {
   "display_name": "Python [conda env:bjorn39]",
   "language": "python",
   "name": "conda-env-bjorn39-py"
  },
  "language_info": {
   "codemirror_mode": {
    "name": "ipython",
    "version": 3
   },
   "file_extension": ".py",
   "mimetype": "text/x-python",
   "name": "python",
   "nbconvert_exporter": "python",
   "pygments_lexer": "ipython3",
   "version": "3.9.7"
  }
 },
 "nbformat": 4,
 "nbformat_minor": 4
}
