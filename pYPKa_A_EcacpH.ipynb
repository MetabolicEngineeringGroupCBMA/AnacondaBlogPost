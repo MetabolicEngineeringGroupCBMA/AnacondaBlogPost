{
 "cells": [
  {
   "cell_type": "markdown",
   "metadata": {},
   "source": [
    "# Construction of plasmid pYPKa_A_EcacpH\n",
    "\n",
    "This notebook describes the construction of the _E. coli_ plasmid [pYPKa_A_EcacpH](pYPKa_A_EcacpH.gb). \n",
    "\n",
    "Briefly, the gene is amplified by PCR using two primers. The pYPka plasmid is linearized with restriction enzyme AjiI.\n",
    "Finally, the gene and the linear plasmid are ligated together into a circular plasmid.\n",
    "\n",
    "![pYPKa_A plasmid](pYPK_A.png \"pYPKa_A plasmid\")"
   ]
  },
  {
   "cell_type": "code",
   "execution_count": 1,
   "metadata": {
    "execution": {
     "iopub.execute_input": "2022-02-07T11:47:11.720449Z",
     "iopub.status.busy": "2022-02-07T11:47:11.719681Z",
     "iopub.status.idle": "2022-02-07T11:47:12.007216Z",
     "shell.execute_reply": "2022-02-07T11:47:12.006747Z"
    },
    "tags": []
   },
   "outputs": [],
   "source": [
    "from pydna.readers import read\n",
    "from pydna.genbank import Genbank\n",
    "from pydna.parsers import parse_primers\n",
    "from pydna.amplify import pcr\n",
    "from pydna.amplify import Anneal"
   ]
  },
  {
   "cell_type": "markdown",
   "metadata": {},
   "source": [
    "The  [pYPKa](pYPKa.gb) plasmid is read from a local file."
   ]
  },
  {
   "cell_type": "code",
   "execution_count": 2,
   "metadata": {
    "execution": {
     "iopub.execute_input": "2022-02-07T11:47:12.042909Z",
     "iopub.status.busy": "2022-02-07T11:47:12.042122Z",
     "iopub.status.idle": "2022-02-07T11:47:12.050892Z",
     "shell.execute_reply": "2022-02-07T11:47:12.050408Z"
    },
    "tags": []
   },
   "outputs": [],
   "source": [
    "pYPKa = read(\"pYPKa.gb\")"
   ]
  },
  {
   "cell_type": "markdown",
   "metadata": {},
   "source": [
    "The restriction enzyme [AjiI](http://rebase.neb.com/rebase/enz/AjiI.html) is imported from [Biopython](http://biopython.org)"
   ]
  },
  {
   "cell_type": "code",
   "execution_count": 3,
   "metadata": {
    "execution": {
     "iopub.execute_input": "2022-02-07T11:47:12.054631Z",
     "iopub.status.busy": "2022-02-07T11:47:12.054020Z",
     "iopub.status.idle": "2022-02-07T11:47:12.055667Z",
     "shell.execute_reply": "2022-02-07T11:47:12.056039Z"
    },
    "tags": []
   },
   "outputs": [],
   "source": [
    "from Bio.Restriction import AjiI"
   ]
  },
  {
   "cell_type": "markdown",
   "metadata": {},
   "source": [
    "The plasmid is linearized with the enzyme."
   ]
  },
  {
   "cell_type": "code",
   "execution_count": 4,
   "metadata": {
    "execution": {
     "iopub.execute_input": "2022-02-07T11:47:12.064654Z",
     "iopub.status.busy": "2022-02-07T11:47:12.063499Z",
     "iopub.status.idle": "2022-02-07T11:47:12.066018Z",
     "shell.execute_reply": "2022-02-07T11:47:12.066447Z"
    },
    "tags": []
   },
   "outputs": [],
   "source": [
    "pYPKa_AjiI  = pYPKa.linearize(AjiI)"
   ]
  },
  {
   "cell_type": "markdown",
   "metadata": {},
   "source": [
    "Access to [Genbank](http://www.ncbi.nlm.nih.gov/nuccore) is needed in order to download the AcpH gene.\n",
    "\n",
    "**If the email address below is not yours, change it before executing this script** as you must \n",
    "always provide NCBI with a way to contact you when using their service."
   ]
  },
  {
   "cell_type": "code",
   "execution_count": 5,
   "metadata": {
    "execution": {
     "iopub.execute_input": "2022-02-07T11:47:12.070669Z",
     "iopub.status.busy": "2022-02-07T11:47:12.070117Z",
     "iopub.status.idle": "2022-02-07T11:47:12.072326Z",
     "shell.execute_reply": "2022-02-07T11:47:12.071852Z"
    },
    "tags": []
   },
   "outputs": [],
   "source": [
    "gb = Genbank(\"me@myemail.home\")"
   ]
  },
  {
   "cell_type": "markdown",
   "metadata": {},
   "source": [
    "The template is downloaded from Genbank below."
   ]
  },
  {
   "cell_type": "code",
   "execution_count": 6,
   "metadata": {
    "execution": {
     "iopub.execute_input": "2022-02-07T11:47:12.077069Z",
     "iopub.status.busy": "2022-02-07T11:47:12.075968Z",
     "iopub.status.idle": "2022-02-07T11:47:12.090498Z",
     "shell.execute_reply": "2022-02-07T11:47:12.090880Z"
    },
    "tags": []
   },
   "outputs": [
    {
     "data": {
      "text/html": [
       "<a href='https://www.ncbi.nlm.nih.gov/nuccore/NC_000913 ?from=424337&to=424918&strand=2' target='_blank'>NC_000913  424337-424918</a>"
      ],
      "text/plain": [
       "Gbank(NC_000913  424337-424918)(-582)"
      ]
     },
     "execution_count": 6,
     "metadata": {},
     "output_type": "execute_result"
    }
   ],
   "source": [
    "template  = gb.nucleotide(\"NC_000913 REGION: complement(424337..424918)\")\n",
    "template"
   ]
  },
  {
   "cell_type": "code",
   "execution_count": 7,
   "metadata": {
    "execution": {
     "iopub.execute_input": "2022-02-07T11:47:12.094682Z",
     "iopub.status.busy": "2022-02-07T11:47:12.093819Z",
     "iopub.status.idle": "2022-02-07T11:47:12.097858Z",
     "shell.execute_reply": "2022-02-07T11:47:12.097261Z"
    }
   },
   "outputs": [
    {
     "name": "stdout",
     "output_type": "stream",
     "text": [
      "ATGAATTTTTTAGCTCACCTGCATTTAGCCCATCTCGCGGAAAGCTCGCTTTCCGGCAATTTACTGGCTGATTTCGTACGCGGAAATCCTGAAGAAAGTTTTCCGCCCGACGTCGTGGCTGGCATTCATATGCATCGACGTATCGACGTATTGACTGACAATCTGCCGGAAGTCCGCGAAGCACGGGAGTGGTTTCGTAGTGAAACGCGCCGCGTTGCGCCTATTACGCTGGATGTCATGTGGGATCACTTTCTTTCCCGCCACTGGTCGCAGCTGTCGCCGGACTTTCCGCTACAGGAATTTGTCTGTTATGCCCGCGAGCAAGTGATGACGATTTTGCCGGACTCACCGCCACGTTTTATCAATCTGAACAATTACTTGTGGTCAGAGCAGTGGCTGGTGCGCTATCGCGATATGGATTTCATCCAGAACGTGTTAAACGGCATGGCAAGCCGCCGCCCACGTCTGGATGCCCTGCGTGACTCCTGGTACGATTTAGACGCTCATTATGACGCCCTCGAAACCCGCTTCTGGCAGTTTTATCCGCGGATGATGGCGCAGGCGTCACGCAAGGCGTTATAA\n"
     ]
    }
   ],
   "source": [
    "print(template.seq)"
   ]
  },
  {
   "cell_type": "markdown",
   "metadata": {},
   "source": [
    "The two primers below are used to PCR amplify the AcpH gene."
   ]
  },
  {
   "cell_type": "code",
   "execution_count": 8,
   "metadata": {
    "execution": {
     "iopub.execute_input": "2022-02-07T11:47:12.103814Z",
     "iopub.status.busy": "2022-02-07T11:47:12.102897Z",
     "iopub.status.idle": "2022-02-07T11:47:12.105984Z",
     "shell.execute_reply": "2022-02-07T11:47:12.105275Z"
    }
   },
   "outputs": [],
   "source": [
    "fp,rp =  parse_primers(\"\"\">868_EcacpH_fw\n",
    "                          aaATGAATTTTTTAGCTCACCTG\n",
    "                          >867_EcacpH_rv\n",
    "                          TTATAACGCCTTGCGTGACGC\"\"\")"
   ]
  },
  {
   "cell_type": "markdown",
   "metadata": {},
   "source": [
    "The gene is amplifed using the primers specified above."
   ]
  },
  {
   "cell_type": "code",
   "execution_count": 9,
   "metadata": {
    "execution": {
     "iopub.execute_input": "2022-02-07T11:47:12.113328Z",
     "iopub.status.busy": "2022-02-07T11:47:12.112598Z",
     "iopub.status.idle": "2022-02-07T11:47:12.119433Z",
     "shell.execute_reply": "2022-02-07T11:47:12.118670Z"
    }
   },
   "outputs": [],
   "source": [
    "ins = pcr(fp, rp, template)"
   ]
  },
  {
   "cell_type": "markdown",
   "metadata": {},
   "source": [
    "The primers sit on the on the AcpH gene like this:"
   ]
  },
  {
   "cell_type": "code",
   "execution_count": 10,
   "metadata": {
    "execution": {
     "iopub.execute_input": "2022-02-07T11:47:12.124830Z",
     "iopub.status.busy": "2022-02-07T11:47:12.124115Z",
     "iopub.status.idle": "2022-02-07T11:47:12.127882Z",
     "shell.execute_reply": "2022-02-07T11:47:12.127340Z"
    }
   },
   "outputs": [
    {
     "data": {
      "text/plain": [
       "  5ATGAATTTTTTAGCTCACCTG...GCGTCACGCAAGGCGTTATAA3\n",
       "                           |||||||||||||||||||||\n",
       "                          3CGCAGTGCGTTCCGCAATATT5\n",
       "5aaATGAATTTTTTAGCTCACCTG3\n",
       "   |||||||||||||||||||||\n",
       "  3TACTTAAAAAATCGAGTGGAC...CGCAGTGCGTTCCGCAATATT5"
      ]
     },
     "execution_count": 10,
     "metadata": {},
     "output_type": "execute_result"
    }
   ],
   "source": [
    "ins.figure()"
   ]
  },
  {
   "cell_type": "markdown",
   "metadata": {},
   "source": [
    "The final vector is:"
   ]
  },
  {
   "cell_type": "code",
   "execution_count": 11,
   "metadata": {
    "execution": {
     "iopub.execute_input": "2022-02-07T11:47:12.161483Z",
     "iopub.status.busy": "2022-02-07T11:47:12.140603Z",
     "iopub.status.idle": "2022-02-07T11:47:12.376635Z",
     "shell.execute_reply": "2022-02-07T11:47:12.376166Z"
    }
   },
   "outputs": [],
   "source": [
    "pYPKa_A_EcacpH = (pYPKa_AjiI  + ins).looped().synced(pYPKa)"
   ]
  },
  {
   "cell_type": "markdown",
   "metadata": {},
   "source": [
    "The vector with reverse insert is created below. This vector theoretically make up\n",
    "fifty percent of the clones. The PCR strategy below is used to identify the correct clones."
   ]
  },
  {
   "cell_type": "code",
   "execution_count": 12,
   "metadata": {
    "execution": {
     "iopub.execute_input": "2022-02-07T11:47:12.379938Z",
     "iopub.status.busy": "2022-02-07T11:47:12.379482Z",
     "iopub.status.idle": "2022-02-07T11:47:12.395953Z",
     "shell.execute_reply": "2022-02-07T11:47:12.396533Z"
    },
    "tags": []
   },
   "outputs": [
    {
     "data": {
      "text/html": [
       "<font face=monospace><a href='pYPKa_A_EcacpH.gb' target='_blank'>pYPKa_A_EcacpH.gb</a></font><br>"
      ]
     },
     "metadata": {},
     "output_type": "display_data"
    }
   ],
   "source": [
    "pYPKa_A_EcacpH.write(\"pYPKa_A_EcacpH.gb\")"
   ]
  }
 ],
 "metadata": {
  "kernelspec": {
   "display_name": "Python [conda env:bjorn39]",
   "language": "python",
   "name": "conda-env-bjorn39-py"
  },
  "language_info": {
   "codemirror_mode": {
    "name": "ipython",
    "version": 3
   },
   "file_extension": ".py",
   "mimetype": "text/x-python",
   "name": "python",
   "nbconvert_exporter": "python",
   "pygments_lexer": "ipython3",
   "version": "3.9.7"
  }
 },
 "nbformat": 4,
 "nbformat_minor": 4
}
